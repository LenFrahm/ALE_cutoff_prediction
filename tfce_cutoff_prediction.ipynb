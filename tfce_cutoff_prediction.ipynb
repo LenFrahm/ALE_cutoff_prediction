{
 "cells": [
  {
   "cell_type": "code",
   "execution_count": 44,
   "id": "fa541172-ea8f-4a79-ae00-bbe9fbeb0ed1",
   "metadata": {
    "tags": []
   },
   "outputs": [],
   "source": [
    "import h5py\n",
    "import pandas as pd\n",
    "import numpy as np\n",
    "from scipy.stats import kurtosis, skew\n",
    "from sklearn.model_selection import cross_validate\n",
    "from sklearn.metrics import r2_score\n",
    "import xgboost as xgb\n",
    "import matplotlib.pyplot as plt\n",
    "\n",
    "def add_identity(axes, *line_args, **line_kwargs):\n",
    "    identity, = axes.plot([], [], *line_args, **line_kwargs)\n",
    "    def callback(axes):\n",
    "        low_x, high_x = axes.get_xlim()\n",
    "        low_y, high_y = axes.get_ylim()\n",
    "        low = max(low_x, low_y)\n",
    "        high = min(high_x, high_y)\n",
    "        identity.set_data([low, high], [low, high])\n",
    "    callback(axes)\n",
    "    axes.callbacks.connect('xlim_changed', callback)\n",
    "    axes.callbacks.connect('ylim_changed', callback)\n",
    "    return axes"
   ]
  },
  {
   "cell_type": "code",
   "execution_count": 46,
   "id": "10f70774-40e9-46ed-a2b2-f7d4afc41429",
   "metadata": {
    "tags": []
   },
   "outputs": [],
   "source": [
    "x = np.zeros((24400,22))\n",
    "counter = 0\n",
    "\n",
    "with h5py.File('input/simulation_data_cutoff_normal.hdf5','r') as sim_data:\n",
    "    for nstudies in range(10,150):\n",
    "        \n",
    "        for rep in range(100):\n",
    "            x[counter,0] = nstudies\n",
    "\n",
    "            nsub = sim_data[f'{nstudies}/{rep}/nsub'][:]\n",
    "            x[counter,1] = np.sum(nsub)\n",
    "            x[counter,2] = np.mean(nsub)\n",
    "            x[counter,3] = np.median(nsub)\n",
    "            x[counter,4] = np.std(nsub)\n",
    "            x[counter,5] = np.max(nsub)\n",
    "            x[counter,6] = np.min(nsub)\n",
    "            #x[counter,15] = skew(nfoci)\n",
    "            #x[counter,16] = kurtosis(nfoci)\n",
    "            \n",
    "            nfoci = sim_data[f'{nstudies}/{rep}/nfoci'][:]\n",
    "            x[counter,7] = np.sum(nfoci)\n",
    "            x[counter,8] = np.mean(nfoci)\n",
    "            x[counter,9] = np.median(nfoci)\n",
    "            x[counter,10] = np.std(nfoci)\n",
    "            x[counter,11] = np.max(nfoci)\n",
    "            x[counter,12] = np.min(nfoci)\n",
    "            #x[counter,7] = skew(nfoci)\n",
    "            #x[counter,8] = kurtosis(nfoci)\n",
    "\n",
    "            x[counter,13]= np.mean(nfoci / nsub)\n",
    "            x[counter,14] = np.std(nfoci / nsub)\n",
    "            x[counter,15] = np.max(nfoci / nsub)\n",
    "            x[counter,16] = np.min(nfoci / nsub)\n",
    "\n",
    "            x[counter,17] = np.sum(nfoci) / nstudies\n",
    "\n",
    "            hi_foci_counter = 0\n",
    "            mi_foci_counter = 0\n",
    "            li_foci_counter = 0\n",
    "            vi_foci_counter = 0\n",
    "\n",
    "\n",
    "\n",
    "            for i in range(nstudies):\n",
    "                if nsub[i] > 20:\n",
    "                    hi_foci_counter += nfoci[i]\n",
    "                if (nsub[i] < 20) and (nsub[i] > 15):\n",
    "                    mi_foci_counter += nfoci[i]\n",
    "                if (nsub[i] < 15) and (nsub[i] > 10):\n",
    "                    li_foci_counter += nfoci[i]\n",
    "                if nsub[i] < 10:\n",
    "                    vi_foci_counter += nfoci[i]\n",
    "\n",
    "            x[counter,18] = hi_foci_counter\n",
    "            x[counter,19] = mi_foci_counter\n",
    "            x[counter,20] = li_foci_counter\n",
    "            x[counter,21] = vi_foci_counter\n",
    "\n",
    "\n",
    "            counter += 1\n",
    "\n",
    "            \n",
    "with h5py.File('input/simulation_data_cutoff_uniform.hdf5','r') as sim_data:\n",
    "    for nstudies in range(10,100):\n",
    "        for rep in range(100):\n",
    "            x[counter,0] = nstudies\n",
    "\n",
    "            nsub = sim_data[f'{nstudies}/{rep}/nsub'][:]\n",
    "            x[counter,1] = np.sum(nsub)\n",
    "            x[counter,2] = np.mean(nsub)\n",
    "            x[counter,3] = np.median(nsub)\n",
    "            x[counter,4] = np.std(nsub)\n",
    "            x[counter,5] = np.max(nsub)\n",
    "            x[counter,6] = np.min(nsub)\n",
    "            #x[counter,15] = skew(nfoci)\n",
    "            #x[counter,16] = kurtosis(nfoci)\n",
    "            \n",
    "            nfoci = sim_data[f'{nstudies}/{rep}/nfoci'][:]\n",
    "            x[counter,7] = np.sum(nfoci)\n",
    "            x[counter,8] = np.mean(nfoci)\n",
    "            x[counter,9] = np.median(nfoci)\n",
    "            x[counter,10] = np.std(nfoci)\n",
    "            x[counter,11] = np.max(nfoci)\n",
    "            x[counter,12] = np.min(nfoci)\n",
    "            #x[counter,7] = skew(nfoci)\n",
    "            #x[counter,8] = kurtosis(nfoci)\n",
    "\n",
    "            x[counter,13]= np.mean(nfoci / nsub)\n",
    "            x[counter,14] = np.std(nfoci / nsub)\n",
    "            x[counter,15] = np.max(nfoci / nsub)\n",
    "            x[counter,16] = np.min(nfoci / nsub)\n",
    "\n",
    "            x[counter,17] = np.sum(nfoci) / nstudies\n",
    "\n",
    "            hi_foci_counter = 0\n",
    "            mi_foci_counter = 0\n",
    "            li_foci_counter = 0\n",
    "            vi_foci_counter = 0\n",
    "\n",
    "\n",
    "\n",
    "            for i in range(nstudies):\n",
    "                if nsub[i] > 20:\n",
    "                    hi_foci_counter += nfoci[i]\n",
    "                if (nsub[i] < 20) and (nsub[i] > 15):\n",
    "                    mi_foci_counter += nfoci[i]\n",
    "                if (nsub[i] < 15) and (nsub[i] > 10):\n",
    "                    li_foci_counter += nfoci[i]\n",
    "                if nsub[i] < 10:\n",
    "                    vi_foci_counter += nfoci[i]\n",
    "\n",
    "            x[counter,18] = hi_foci_counter\n",
    "            x[counter,19] = mi_foci_counter\n",
    "            x[counter,20] = li_foci_counter\n",
    "            x[counter,21] = vi_foci_counter\n",
    "\n",
    "\n",
    "            counter += 1\n",
    "            \n",
    "\n",
    "            \n",
    "with h5py.File('input/simulation_data_cutoff_highfoci.hdf5','r') as sim_data:\n",
    "    for nstudies in range(10,150):\n",
    "        for rep in range(10):\n",
    "            x[counter,0] = nstudies\n",
    "\n",
    "            nsub = sim_data[f'{nstudies}/{rep}/nsub'][:]\n",
    "            x[counter,1] = np.sum(nsub)\n",
    "            x[counter,2] = np.mean(nsub)\n",
    "            x[counter,3] = np.median(nsub)\n",
    "            x[counter,4] = np.std(nsub)\n",
    "            x[counter,5] = np.max(nsub)\n",
    "            x[counter,6] = np.min(nsub)\n",
    "            #x[counter,15] = skew(nfoci)\n",
    "            #x[counter,16] = kurtosis(nfoci)\n",
    "            \n",
    "            nfoci = sim_data[f'{nstudies}/{rep}/nfoci'][:]\n",
    "            x[counter,7] = np.sum(nfoci)\n",
    "            x[counter,8] = np.mean(nfoci)\n",
    "            x[counter,9] = np.median(nfoci)\n",
    "            x[counter,10] = np.std(nfoci)\n",
    "            x[counter,11] = np.max(nfoci)\n",
    "            x[counter,12] = np.min(nfoci)\n",
    "            #x[counter,7] = skew(nfoci)\n",
    "            #x[counter,8] = kurtosis(nfoci)\n",
    "\n",
    "            x[counter,13]= np.mean(nfoci / nsub)\n",
    "            x[counter,14] = np.std(nfoci / nsub)\n",
    "            x[counter,15] = np.max(nfoci / nsub)\n",
    "            x[counter,16] = np.min(nfoci / nsub)\n",
    "\n",
    "            x[counter,17] = np.sum(nfoci) / nstudies\n",
    "\n",
    "            hi_foci_counter = 0\n",
    "            mi_foci_counter = 0\n",
    "            li_foci_counter = 0\n",
    "            vi_foci_counter = 0\n",
    "\n",
    "\n",
    "\n",
    "            for i in range(nstudies):\n",
    "                if nsub[i] > 20:\n",
    "                    hi_foci_counter += nfoci[i]\n",
    "                if (nsub[i] < 20) and (nsub[i] > 15):\n",
    "                    mi_foci_counter += nfoci[i]\n",
    "                if (nsub[i] < 15) and (nsub[i] > 10):\n",
    "                    li_foci_counter += nfoci[i]\n",
    "                if nsub[i] < 10:\n",
    "                    vi_foci_counter += nfoci[i]\n",
    "\n",
    "            x[counter,18] = hi_foci_counter\n",
    "            x[counter,19] = mi_foci_counter\n",
    "            x[counter,20] = li_foci_counter\n",
    "            x[counter,21] = vi_foci_counter\n",
    "\n",
    "\n",
    "            counter += 1\n"
   ]
  },
  {
   "cell_type": "code",
   "execution_count": 47,
   "id": "b61cbae9-15f0-4413-b3f5-6c609c1a2f2d",
   "metadata": {
    "tags": []
   },
   "outputs": [],
   "source": [
    "tfce_cutoffs = np.empty((0))\n",
    "\n",
    "with h5py.File(f'input/tfce_nulls_normal.hdf5', 'r') as f:\n",
    "    for nstudies in range(10,150):\n",
    "        tfce_cutoffs = np.append(tfce_cutoffs, f[f'{nstudies}'][:])\n",
    "\n",
    "with h5py.File(f'input/tfce_nulls_uniform.hdf5', 'r') as f:\n",
    "    for nstudies in range(10,100):\n",
    "        tfce_cutoffs = np.append(tfce_cutoffs, f[f'{nstudies}'][:])\n",
    "            \n",
    "with h5py.File(f'input/tfce_nulls_highfoci.hdf5', 'r') as f:\n",
    "    for nstudies in range(10,150):\n",
    "        tfce_cutoffs = np.append(tfce_cutoffs, f[f'{nstudies}'][:])"
   ]
  },
  {
   "cell_type": "code",
   "execution_count": 48,
   "id": "a1d43cde-8ada-4d21-8f5f-6a6e437688c5",
   "metadata": {
    "tags": []
   },
   "outputs": [],
   "source": [
    "def unison_shuffled_copies(a, b):\n",
    "    assert len(a) == len(b)\n",
    "    p = np.random.permutation(len(a))\n",
    "    return a[p], b[p]"
   ]
  },
  {
   "cell_type": "code",
   "execution_count": 49,
   "id": "b7f1509e-5db9-4197-9c5a-67efe24af879",
   "metadata": {
    "tags": []
   },
   "outputs": [],
   "source": [
    "x, tfce_cutoffs = unison_shuffled_copies(x, tfce_cutoffs)"
   ]
  },
  {
   "cell_type": "code",
   "execution_count": 50,
   "id": "255bfba9-bd5d-4e4f-9a36-72ab0218baab",
   "metadata": {
    "tags": []
   },
   "outputs": [],
   "source": [
    "xgb_tfce = xgb.XGBRegressor(n_jobs=6)\n",
    "#cv_dict = cross_validate(xgb_tfce, x, tfce_cutoffs, cv=10, scoring=['r2', 'neg_mean_absolute_error'])"
   ]
  },
  {
   "cell_type": "code",
   "execution_count": 27,
   "id": "2609a026-6de2-405d-9d8f-9b7aa26f3d28",
   "metadata": {
    "tags": []
   },
   "outputs": [],
   "source": []
  },
  {
   "cell_type": "code",
   "execution_count": 51,
   "id": "ae6afec1-4f58-4b09-adc8-4f20812e2194",
   "metadata": {
    "tags": []
   },
   "outputs": [],
   "source": [
    "xgb_tfce = xgb_tfce.fit(x, tfce_cutoffs)"
   ]
  },
  {
   "cell_type": "code",
   "execution_count": 52,
   "id": "13fc5a7d-eaa4-46c3-8bd5-036681b4c765",
   "metadata": {
    "tags": []
   },
   "outputs": [],
   "source": [
    "X_real = pd.read_csv('output/x_real.csv')\n",
    "tfce_real = X_real['t_cutoff'].values"
   ]
  },
  {
   "cell_type": "code",
   "execution_count": 53,
   "id": "b8a521e3-92c5-474c-a7f0-b9fb96cfdc62",
   "metadata": {
    "tags": []
   },
   "outputs": [
    {
     "data": {
      "text/plain": [
       "0.965"
      ]
     },
     "execution_count": 53,
     "metadata": {},
     "output_type": "execute_result"
    }
   ],
   "source": [
    "tfce_predict_xgb = []\n",
    "\n",
    "for idx, row in X_real.iterrows():\n",
    "    tfce_predict_xgb.append(xgb_tfce.predict(row[4:].values.reshape(1,22))[0])\n",
    "\n",
    "r2_tfce = np.round(r2_score(tfce_real, tfce_predict_xgb), 3)\n",
    "r2_tfce"
   ]
  },
  {
   "cell_type": "code",
   "execution_count": 54,
   "id": "8962c113-3357-4d4a-8ea1-e47bcdc3fe41",
   "metadata": {
    "tags": []
   },
   "outputs": [
    {
     "data": {
      "text/plain": [
       "Text(0.5, 0, 'Permutation Result')"
      ]
     },
     "execution_count": 54,
     "metadata": {},
     "output_type": "execute_result"
    },
    {
     "data": {
      "image/png": "[encoded data removed]",
      "text/plain": [
       "<Figure size 1440x720 with 2 Axes>"
      ]
     },
     "metadata": {
      "needs_background": "light"
     },
     "output_type": "display_data"
    }
   ],
   "source": [
    "fig, ax = plt.subplots(1,2, figsize=(20,10))\n",
    "\n",
    "for i in range(len(tfce_real)):\n",
    "    if i == 16:\n",
    "         ax[0].scatter(tfce_real[i],np.array(tfce_predict_xgb)[i], color='red')\n",
    "    else:\n",
    "        ax[0].scatter(tfce_real[i],np.array(tfce_predict_xgb)[i], color='black')\n",
    "add_identity(ax[0], color='green', ls='--')\n",
    "ax[0].grid()\n",
    "ax[0].set_ylabel('Prediction', fontsize=16)\n",
    "ax[0].set_xlabel('Permutation Result', fontsize=16)"
   ]
  }
 ],
 "metadata": {
  "kernelspec": {
   "display_name": "pyALE",
   "language": "python",
   "name": "pyale"
  },
  "language_info": {
   "codemirror_mode": {
    "name": "ipython",
    "version": 3
   },
   "file_extension": ".py",
   "mimetype": "text/x-python",
   "name": "python",
   "nbconvert_exporter": "python",
   "pygments_lexer": "ipython3",
   "version": "3.9.1"
  }
 },
 "nbformat": 4,
 "nbformat_minor": 5
}

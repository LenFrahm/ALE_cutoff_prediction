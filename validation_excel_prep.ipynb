{
 "cells": [
  {
   "cell_type": "code",
   "execution_count": 2,
   "id": "understanding-extension",
   "metadata": {
    "tags": []
   },
   "outputs": [],
   "source": [
    "from nb_pipeline import setup, analysis\n",
    "from utils.compile_studies import compile_studies\n",
    "from utils.contribution import contribution\n",
    "from utils.folder_setup import folder_setup\n",
    "from utils.read_exp_info import read_exp_info\n",
    "from utils.template import sample_space, prior\n",
    "from utils.compute import *"
   ]
  },
  {
   "cell_type": "code",
   "execution_count": 5,
   "id": "sharing-burke",
   "metadata": {
    "tags": []
   },
   "outputs": [],
   "source": [
    "path = '/Users/lfrahm/Code/cutoff_prediction/input/validation_datasets/Cieslik_TaskControl/'\n",
    "analysis_info_name = \"analysis_info.xlsx\"\n",
    "experiment_info_name = \"experiment_info.xlsx\"\n",
    "meta_df, exp_all, tasks = setup(path, analysis_info_name, experiment_info_name)"
   ]
  },
  {
   "cell_type": "code",
   "execution_count": 6,
   "id": "vital-wagon",
   "metadata": {
    "tags": []
   },
   "outputs": [
    {
     "data": {
      "text/html": [
       "<div>\n",
       "<style scoped>\n",
       "    .dataframe tbody tr th:only-of-type {\n",
       "        vertical-align: middle;\n",
       "    }\n",
       "\n",
       "    .dataframe tbody tr th {\n",
       "        vertical-align: top;\n",
       "    }\n",
       "\n",
       "    .dataframe thead th {\n",
       "        text-align: right;\n",
       "    }\n",
       "</style>\n",
       "<table border=\"1\" class=\"dataframe\">\n",
       "  <thead>\n",
       "    <tr style=\"text-align: right;\">\n",
       "      <th></th>\n",
       "      <th>Name</th>\n",
       "      <th>Num_Exp</th>\n",
       "      <th>Who</th>\n",
       "      <th>TotalSubjects</th>\n",
       "      <th>ExpIndex</th>\n",
       "    </tr>\n",
       "  </thead>\n",
       "  <tbody>\n",
       "    <tr>\n",
       "      <th>0</th>\n",
       "      <td>conflict</td>\n",
       "      <td>143</td>\n",
       "      <td>[Garavan et al., 1999, Kiehl et al., 2000, Lid...</td>\n",
       "      <td>3999</td>\n",
       "      <td>[0, 1, 2, 3, 4, 5, 6, 7, 8, 9, 10, 11, 12, 13,...</td>\n",
       "    </tr>\n",
       "    <tr>\n",
       "      <th>1</th>\n",
       "      <td>all</td>\n",
       "      <td>143</td>\n",
       "      <td>[Garavan et al., 1999, Kiehl et al., 2000, Lid...</td>\n",
       "      <td>3999</td>\n",
       "      <td>[0, 1, 2, 3, 4, 5, 6, 7, 8, 9, 10, 11, 12, 13,...</td>\n",
       "    </tr>\n",
       "    <tr>\n",
       "      <th>2</th>\n",
       "      <td>taskcontrol</td>\n",
       "      <td>142</td>\n",
       "      <td>[Garavan et al., 1999, Kiehl et al., 2000, Lid...</td>\n",
       "      <td>3985</td>\n",
       "      <td>[0, 1, 2, 3, 4, 5, 6, 7, 8, 9, 10, 11, 12, 14,...</td>\n",
       "    </tr>\n",
       "    <tr>\n",
       "      <th>3</th>\n",
       "      <td>controltask</td>\n",
       "      <td>1</td>\n",
       "      <td>[Hart et al., 2010]</td>\n",
       "      <td>14</td>\n",
       "      <td>[13]</td>\n",
       "    </tr>\n",
       "  </tbody>\n",
       "</table>\n",
       "</div>"
      ],
      "text/plain": [
       "          Name  Num_Exp                                                Who   \n",
       "0     conflict      143  [Garavan et al., 1999, Kiehl et al., 2000, Lid...  \\\n",
       "1          all      143  [Garavan et al., 1999, Kiehl et al., 2000, Lid...   \n",
       "2  taskcontrol      142  [Garavan et al., 1999, Kiehl et al., 2000, Lid...   \n",
       "3  controltask        1                                [Hart et al., 2010]   \n",
       "\n",
       "  TotalSubjects                                           ExpIndex  \n",
       "0          3999  [0, 1, 2, 3, 4, 5, 6, 7, 8, 9, 10, 11, 12, 13,...  \n",
       "1          3999  [0, 1, 2, 3, 4, 5, 6, 7, 8, 9, 10, 11, 12, 13,...  \n",
       "2          3985  [0, 1, 2, 3, 4, 5, 6, 7, 8, 9, 10, 11, 12, 14,...  \n",
       "3            14                                               [13]  "
      ]
     },
     "execution_count": 6,
     "metadata": {},
     "output_type": "execute_result"
    }
   ],
   "source": [
    "tasks.iloc[0:10]"
   ]
  },
  {
   "cell_type": "code",
   "execution_count": 7,
   "id": "compliant-pantyhose",
   "metadata": {
    "tags": []
   },
   "outputs": [],
   "source": [
    "conditions=['+all']\n",
    "exp_idxs, masks, mask_names = compile_studies(conditions, tasks)\n",
    "exp_df = exp_all.loc[exp_idxs].reset_index(drop=True)"
   ]
  },
  {
   "cell_type": "code",
   "execution_count": 9,
   "id": "domestic-estimate",
   "metadata": {
    "tags": []
   },
   "outputs": [],
   "source": [
    "exp_df.XYZ.to_pickle('/Users/lfrahm/Code/cutoff_prediction/input/validation_datasets/taskcontrol_all_coords.pickle')"
   ]
  },
  {
   "cell_type": "code",
   "execution_count": 10,
   "id": "smaller-fighter",
   "metadata": {
    "tags": []
   },
   "outputs": [],
   "source": [
    "exp_df.to_csv('/Users/lfrahm/Code/cutoff_prediction/input/validation_datasets/taskcontrol_all.csv')"
   ]
  },
  {
   "cell_type": "code",
   "execution_count": null,
   "id": "7659ab68-c8ee-48a9-ba00-3102dc2450e7",
   "metadata": {},
   "outputs": [],
   "source": []
  },
  {
   "cell_type": "code",
   "execution_count": null,
   "id": "330869c0-d6ba-4ee7-916a-820304c96570",
   "metadata": {},
   "outputs": [],
   "source": []
  },
  {
   "cell_type": "code",
   "execution_count": null,
   "id": "2681e664-f63d-466b-b4f2-78aad68db09c",
   "metadata": {},
   "outputs": [],
   "source": [
    "df = pd.read_excel('validation_datasets/Worringer_MultiTasking/Multitasking_Worringer_final.xls')\n",
    "\n",
    "for col_name in df.columns[11:]:\n",
    "\n",
    "    col_list = []\n",
    "    for idx,value in enumerate(df[f'{col_name}']):\n",
    "        if (type(value) == int) or (type(value) == float):\n",
    "            if isnan(value):\n",
    "                col_list.append(current)\n",
    "            else:\n",
    "                current = value\n",
    "                col_list.append(current)\n",
    "        else:\n",
    "            current = value\n",
    "            col_list.append(current)    \n",
    "\n",
    "    df[f'{col_name}'] = col_list\n",
    "\n",
    "df = df.drop(columns=['RandomSelect'])\n",
    "\n",
    "df = df.reset_index(drop=True)\n",
    "\n",
    "df.to_excel('validation_datasets/Langner_EmotionRegulation/EmotionRegulation_Susanne.xlsx', index=False)"
   ]
  }
 ],
 "metadata": {
  "kernelspec": {
   "display_name": "Python 3 (ipykernel)",
   "language": "python",
   "name": "python3"
  },
  "language_info": {
   "codemirror_mode": {
    "name": "ipython",
    "version": 3
   },
   "file_extension": ".py",
   "mimetype": "text/x-python",
   "name": "python",
   "nbconvert_exporter": "python",
   "pygments_lexer": "ipython3",
   "version": "3.11.6"
  }
 },
 "nbformat": 4,
 "nbformat_minor": 5
}
